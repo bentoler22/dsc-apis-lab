{
 "cells": [
  {
   "cell_type": "markdown",
   "metadata": {},
   "source": [
    "# APIs - Cumulative Lab\n",
    "\n",
    "\n",
    "## Introduction \n",
    "\n",
    "We've seen how the Yelp API works and how to create basic visualizations using Folium. It's time to put those skills to work in order to create a working map! Taking things a step further, you'll also independently explore how to perform pagination in order to retrieve a full results set from the Yelp API.\n",
    "\n",
    "## Objectives\n",
    "\n",
    "You will be able to: \n",
    "\n",
    "* Practice using functions to organize your code\n",
    "* Use pagination to retrieve all results from an API query\n",
    "* Practice parsing data returned from an API query\n",
    "* Practice interpreting visualizations of a dataset\n",
    "* Create maps using Folium"
   ]
  },
  {
   "cell_type": "markdown",
   "metadata": {},
   "source": [
    "## Your Task: Query Yelp for All Businesses in a Category and Analyze the Results\n",
    "\n",
    "![restaurant counter with pizza](images/restaurant_counter.jpg)\n",
    "\n",
    "Photo by <a href=\"https://unsplash.com/@jordanmadrid?utm_source=unsplash&utm_medium=referral&utm_content=creditCopyText\">Jordan Madrid</a> on <a href=\"/s/photos/pizza-restaurant?utm_source=unsplash&utm_medium=referral&utm_content=creditCopyText\">Unsplash</a>"
   ]
  },
  {
   "cell_type": "markdown",
   "metadata": {},
   "source": [
    "### Overview\n",
    "\n",
    "You've now worked with some API calls, but we have yet to see how to retrieve a more complete dataset in a programmatic manner. In this lab, you will write a query of businesses on Yelp, then use *pagination* to retrieve all possible results for that query. Then you will create a summary of your findings, including a Folium map of the geographic locations of those businesses.\n",
    "\n",
    "### Technical Details\n",
    "\n",
    "Returning to the Yelp API, the [documentation](https://www.yelp.com/developers/documentation/v3/business_search) also provides us details regarding the **API limits**. These often include details about the number of requests a user is allowed to make within a specified time limit and the maximum number of results to be returned. In this case, we are told that any request has a **maximum of 50 results per request** and defaults to 20. Furthermore, any search will be limited to a **total of 1000 results**. To retrieve all 1000 of these results, we would have to page through the results piece by piece, retrieving 50 at a time. Processes such as these are often referred to as pagination.\n",
    "\n",
    "Also, be mindful of the **API** ***rate*** **limits**. You can only make **5000 requests per day** and are also can make requests too fast. Start prototyping small before running a loop that could be faulty. You can also use `time.sleep(n)` to add delays. For more details see https://www.yelp.com/developers/documentation/v3/rate_limiting.\n",
    "\n",
    "In this lab, you will define a search and then paginate over the results to retrieve all of the results. You'll then parse these responses as a list of dictionaries (for further exploration) and create a map using Folium to visualize the results geographically.\n",
    "\n",
    "### Requirements\n",
    "\n",
    "#### 1. Make the Initial Request\n",
    "\n",
    "Start by filling in your API key to make the initial request to the business search API. Investigate the structure of the response you get back and start figuring out how you will extract the relevant information.\n",
    "\n",
    "#### 2. Add Pagination\n",
    "\n",
    "Using loops and functions, collect the maximum number of results for your query from the API.\n",
    "\n",
    "#### 3. Perform Exploratory Analysis\n",
    "\n",
    "Interpret visualizations related to the price range, average rating, and number of reviews for all query results.\n",
    "\n",
    "#### 4. Create a Folium Map\n",
    "\n",
    "Using latitude and longitude data, plot the query results on an interactive map."
   ]
  },
  {
   "cell_type": "markdown",
   "metadata": {},
   "source": [
    "## 1. Make the Initial Request\n",
    "\n",
    "### Querying\n",
    "\n",
    "Start by making an initial request to the Yelp API. Your search must include at least 2 parameters: **term** and **location**. For example, you might search for pizza restaurants in NYC. The term and location is up to you but make the request below.\n",
    "\n",
    "Use the `requests` library ([documentation here](https://requests.readthedocs.io/en/master/user/quickstart/#make-a-request)).\n",
    "\n",
    "You'll also need an API key from Yelp. If you haven't done this already, go to the Yelp [Manage App page](https://www.yelp.com/developers/v3/manage_app) and create a new app (after making an account if you haven't already)."
   ]
  },
  {
   "cell_type": "code",
   "execution_count": 4,
   "metadata": {},
   "outputs": [],
   "source": [
    "import json\n",
    "\n",
    "def get_keys(path):\n",
    "    with open(path) as f:\n",
    "        return json.load(f)"
   ]
  },
  {
   "cell_type": "code",
   "execution_count": 6,
   "metadata": {},
   "outputs": [
    {
     "data": {
      "text/plain": [
       "<Response [200]>"
      ]
     },
     "execution_count": 6,
     "metadata": {},
     "output_type": "execute_result"
    }
   ],
   "source": [
    "# Replace None with appropriate code\n",
    "\n",
    "# Import the requests library\n",
    "import requests\n",
    "\n",
    "# Get this from the \"Manage App\" page. Make sure you set them\n",
    "# back to None before pushing this to GitHub, since otherwise\n",
    "# your credentials will be compromised\n",
    "api_key = get_keys(\"/Users/bento/.secret/yelp_api.json\")['api_key']\n",
    "\n",
    "# These can be whatever you want! But the solution uses \"pizza\"\n",
    "# and \"New York NY\" if you want to compare your work directly\n",
    "term = \"pizza\"\n",
    "location = \"New York NY\"\n",
    "\n",
    "# Set up params for request\n",
    "url = \"https://api.yelp.com/v3/businesses/search\"\n",
    "headers = {\n",
    "    \"Authorization\": \"Bearer {}\".format(api_key)\n",
    "}\n",
    "url_params = {\n",
    "    \"term\": term.replace(\" \", \"+\"),\n",
    "    \"location\": location.replace(\" \", \"+\")\n",
    "}\n",
    "\n",
    "# Make the request using requests.get, passing in\n",
    "# url, headers=headers, and params=url_params\n",
    "response = requests.get(url, headers=headers, params=url_params)\n",
    "\n",
    "# Confirm we got a 200 response\n",
    "response"
   ]
  },
  {
   "cell_type": "code",
   "execution_count": 7,
   "metadata": {},
   "outputs": [
    {
     "data": {
      "text/plain": [
       "dict_keys(['businesses', 'total', 'region'])"
      ]
     },
     "execution_count": 7,
     "metadata": {},
     "output_type": "execute_result"
    }
   ],
   "source": [
    "# Run this cell without changes\n",
    "\n",
    "# Get the response body in JSON format\n",
    "response_json = response.json()\n",
    "# View the keys\n",
    "response_json.keys()"
   ]
  },
  {
   "cell_type": "markdown",
   "metadata": {},
   "source": [
    "### Extracting Data\n",
    "\n",
    "Now, retrieve the value associated with the `'businesses'` key, and inspect its contents."
   ]
  },
  {
   "cell_type": "code",
   "execution_count": 18,
   "metadata": {},
   "outputs": [
    {
     "data": {
      "text/plain": [
       "[{'id': 'zj8Lq1T8KIC5zwFief15jg',\n",
       "  'alias': 'prince-street-pizza-new-york-2',\n",
       "  'name': 'Prince Street Pizza',\n",
       "  'image_url': 'https://s3-media3.fl.yelpcdn.com/bphoto/ZAukOyv530w4KjOHC5YY1w/o.jpg',\n",
       "  'is_closed': False,\n",
       "  'url': 'https://www.yelp.com/biz/prince-street-pizza-new-york-2?adjust_creative=Dw_vfjRqiZM5qMrFQbfhQQ&utm_campaign=yelp_api_v3&utm_medium=api_v3_business_search&utm_source=Dw_vfjRqiZM5qMrFQbfhQQ',\n",
       "  'review_count': 4056,\n",
       "  'categories': [{'alias': 'pizza', 'title': 'Pizza'},\n",
       "   {'alias': 'italian', 'title': 'Italian'}],\n",
       "  'rating': 4.5,\n",
       "  'coordinates': {'latitude': 40.72308755605564,\n",
       "   'longitude': -73.99453001177575},\n",
       "  'transactions': ['pickup', 'delivery'],\n",
       "  'price': '$',\n",
       "  'location': {'address1': '27 Prince St',\n",
       "   'address2': None,\n",
       "   'address3': '',\n",
       "   'city': 'New York',\n",
       "   'zip_code': '10012',\n",
       "   'country': 'US',\n",
       "   'state': 'NY',\n",
       "   'display_address': ['27 Prince St', 'New York, NY 10012']},\n",
       "  'phone': '+12129664100',\n",
       "  'display_phone': '(212) 966-4100',\n",
       "  'distance': 1961.8771417367063},\n",
       " {'id': 'WG639VkTjmK5dzydd1BBJA',\n",
       "  'alias': 'rubirosa-new-york-2',\n",
       "  'name': 'Rubirosa',\n",
       "  'image_url': 'https://s3-media4.fl.yelpcdn.com/bphoto/LuSzR8cpVQRofXOT_bMi1A/o.jpg',\n",
       "  'is_closed': False,\n",
       "  'url': 'https://www.yelp.com/biz/rubirosa-new-york-2?adjust_creative=Dw_vfjRqiZM5qMrFQbfhQQ&utm_campaign=yelp_api_v3&utm_medium=api_v3_business_search&utm_source=Dw_vfjRqiZM5qMrFQbfhQQ',\n",
       "  'review_count': 2493,\n",
       "  'categories': [{'alias': 'italian', 'title': 'Italian'},\n",
       "   {'alias': 'pizza', 'title': 'Pizza'}],\n",
       "  'rating': 4.5,\n",
       "  'coordinates': {'latitude': 40.722766, 'longitude': -73.996233},\n",
       "  'transactions': ['pickup', 'delivery'],\n",
       "  'price': '$$',\n",
       "  'location': {'address1': '235 Mulberry St',\n",
       "   'address2': '',\n",
       "   'address3': '',\n",
       "   'city': 'New York',\n",
       "   'zip_code': '10012',\n",
       "   'country': 'US',\n",
       "   'state': 'NY',\n",
       "   'display_address': ['235 Mulberry St', 'New York, NY 10012']},\n",
       "  'phone': '+12129650500',\n",
       "  'display_phone': '(212) 965-0500',\n",
       "  'distance': 1932.9467701334759}]"
      ]
     },
     "execution_count": 18,
     "metadata": {},
     "output_type": "execute_result"
    }
   ],
   "source": [
    "# Replace None with appropriate code\n",
    "\n",
    "# Retrieve the value from response_json\n",
    "businesses = response_json['businesses']\n",
    "\n",
    "# View the first 2 records\n",
    "businesses[:2]"
   ]
  },
  {
   "cell_type": "markdown",
   "metadata": {},
   "source": [
    "### Preparing Data\n",
    "\n",
    "Write a function `prepare_data` that takes in a list of dictionaries like `businesses` and returns a copy that has been prepared for analysis:\n",
    "\n",
    "1. The `coordinates` key-value pair has been converted into two separate key-value pairs, `latitude` and `longitude`\n",
    "2. All other key-value pairs except for `name`, `review_count`, `rating`, and `price` have been dropped\n",
    "3. All dictionaries missing one of the relevant keys or containing null values have been dropped\n",
    "\n",
    "In other words, the final keys for each dictionary should be `name`, `review_count`, `rating`, `price`, `latitude`, and `longitude`.\n",
    "\n",
    "Complete the function in the cell below:"
   ]
  },
  {
   "cell_type": "code",
   "execution_count": 19,
   "metadata": {},
   "outputs": [
    {
     "data": {
      "text/plain": [
       "[{'name': 'Prince Street Pizza',\n",
       "  'review_count': 4056,\n",
       "  'rating': 4.5,\n",
       "  'price': '$',\n",
       "  'latitude': 40.72308755605564,\n",
       "  'longitude': -73.99453001177575},\n",
       " {'name': 'Rubirosa',\n",
       "  'review_count': 2493,\n",
       "  'rating': 4.5,\n",
       "  'price': '$$',\n",
       "  'latitude': 40.722766,\n",
       "  'longitude': -73.996233},\n",
       " {'name': \"Lombardi's Pizza\",\n",
       "  'review_count': 6214,\n",
       "  'rating': 4.0,\n",
       "  'price': '$$',\n",
       "  'latitude': 40.7215934960083,\n",
       "  'longitude': -73.9955956044561},\n",
       " {'name': \"Juliana's\",\n",
       "  'review_count': 2355,\n",
       "  'rating': 4.5,\n",
       "  'price': '$$',\n",
       "  'latitude': 40.70274718768062,\n",
       "  'longitude': -73.99343490196397},\n",
       " {'name': 'Lucali',\n",
       "  'review_count': 1732,\n",
       "  'rating': 4.0,\n",
       "  'price': '$$',\n",
       "  'latitude': 40.6818,\n",
       "  'longitude': -74.00024}]"
      ]
     },
     "execution_count": 19,
     "metadata": {},
     "output_type": "execute_result"
    }
   ],
   "source": [
    "# Replace None with appropriate code\n",
    "\n",
    "def prepare_data(data_list):\n",
    "    \"\"\"\n",
    "    This function takes in a list of dictionaries and prepares it\n",
    "    for analysis\n",
    "    \"\"\"\n",
    "    \n",
    "    # Make a new list to hold results\n",
    "    results = []\n",
    "    \n",
    "    for business_data in data_list:\n",
    "    \n",
    "        # Make a new dictionary to hold prepared data for this business\n",
    "        prepared_data = {}\n",
    "        \n",
    "        # Extract name, review_count, rating, and price key-value pairs\n",
    "        # from business_data and add to prepared_data\n",
    "        # If a key is not present in business_data, add it to prepared_data\n",
    "        # with an associated value of None\n",
    "        for key in ['name', 'review_count', 'rating', 'price']:\n",
    "            if key in list(business_data.keys()):\n",
    "                prepared_data[key] = business_data[key]\n",
    "            else:\n",
    "                prepared_data[key] = None\n",
    "    \n",
    "        # Parse and add latitude and longitude columns\n",
    "        lat = business_data['coordinates']['latitude']\n",
    "        lon = business_data['coordinates']['longitude']\n",
    "        \n",
    "        prepared_data['latitude'] = lat\n",
    "        prepared_data['longitude'] = lon\n",
    "\n",
    "        # Add to list if all values are present\n",
    "        if all(prepared_data.values()):\n",
    "            results.append(prepared_data)\n",
    "    \n",
    "    return results\n",
    "    \n",
    "# Test out function\n",
    "prepared_businesses = prepare_data(businesses)\n",
    "prepared_businesses[:5]"
   ]
  },
  {
   "cell_type": "markdown",
   "metadata": {},
   "source": [
    "Check that your function created the correct keys:"
   ]
  },
  {
   "cell_type": "code",
   "execution_count": 20,
   "metadata": {},
   "outputs": [],
   "source": [
    "# Run this cell without changes\n",
    "\n",
    "assert sorted(list(prepared_businesses[0].keys())) == ['latitude', 'longitude', 'name', 'price', 'rating', 'review_count']"
   ]
  },
  {
   "cell_type": "markdown",
   "metadata": {},
   "source": [
    "The following code will differ depending on your query, but we expect there to be 20 businesses in the original list, and potentially fewer in the prepared list (if any of them were missing data):"
   ]
  },
  {
   "cell_type": "code",
   "execution_count": 21,
   "metadata": {},
   "outputs": [
    {
     "name": "stdout",
     "output_type": "stream",
     "text": [
      "Original: 20\n",
      "Prepared: 19\n"
     ]
    }
   ],
   "source": [
    "# Run this cell without changes\n",
    "print(\"Original:\", len(businesses))\n",
    "print(\"Prepared:\", len(prepared_businesses))"
   ]
  },
  {
   "cell_type": "markdown",
   "metadata": {},
   "source": [
    "Great! We will reuse this function once we have retrieved the full dataset."
   ]
  },
  {
   "cell_type": "markdown",
   "metadata": {},
   "source": [
    "## 2. Add Pagination\n",
    "\n",
    "Now that you are able to extract information from one page of the response, let's figure out how to request as many pages as possible.\n",
    "\n",
    "### Determining the Total\n",
    "\n",
    "Depending on the number of total results for your query, you will either retrieve all of the results, or just the first 1000 (if there are more than 1000 total).\n",
    "\n",
    "We can find the total number of results using the `\"total\"` key:"
   ]
  },
  {
   "cell_type": "code",
   "execution_count": 22,
   "metadata": {},
   "outputs": [
    {
     "data": {
      "text/plain": [
       "240"
      ]
     },
     "execution_count": 22,
     "metadata": {},
     "output_type": "execute_result"
    }
   ],
   "source": [
    "# Run this cell without changes\n",
    "response_json[\"total\"]"
   ]
  },
  {
   "cell_type": "markdown",
   "metadata": {},
   "source": [
    "(This is specific to the implementation of the Yelp API. Some APIs will just tell you that there are more pages, or will tell you the number of pages total, rather than the total number of results. If you're not sure, always check the documentation.)\n",
    "\n",
    "In the cell below, assign the variable `total` to either the value shown above (if it is less than 1000), or 1000."
   ]
  },
  {
   "cell_type": "code",
   "execution_count": 23,
   "metadata": {},
   "outputs": [],
   "source": [
    "# Replace None with appropriate code\n",
    "total = response_json[\"total\"]"
   ]
  },
  {
   "cell_type": "markdown",
   "metadata": {},
   "source": [
    "### Calculating the Offsets\n",
    "\n",
    "The documentation states in the parameters section:\n",
    "\n",
    "> **Name**: `limit`, **Type:** int, **Description:** Optional. Number of business results to return. By default, it will return 20. Maximum is 50.\n",
    "\n",
    "> **Name**: `offset`, **Type:** int, **Description:** Optional. Offset the list of returned business results by this amount.\n",
    "\n",
    "So, to get the most results with the fewest API calls we want to set a limit of 50 every time. If, say, we wanted to get 210 total results, that would mean:\n",
    "\n",
    "1. Offset of `0` (first 50 records)\n",
    "2. Offset of `50` (second 50 records)\n",
    "3. Offset of `100` (third 50 records)\n",
    "4. Offset of `150` (fourth 50 records)\n",
    "5. Offset of `200` (final 10 records)\n",
    "\n",
    "In the cell below, create a function `get_offsets` that takes in a total and returns a list of offsets for that total. You can assume that there is a limit of 50 every time.\n",
    "\n",
    "*Hint: you can use `range` ([documentation here](https://docs.python.org/3.3/library/stdtypes.html?highlight=range#range)) to do this in one line of code. Just make the returned result is a list.*"
   ]
  },
  {
   "cell_type": "code",
   "execution_count": 28,
   "metadata": {},
   "outputs": [],
   "source": [
    "# Replace None with appropriate code\n",
    "def get_offsets(total):\n",
    "    \"\"\"\n",
    "    Get a list of offsets needed to get all pages\n",
    "    of data up until the total\n",
    "    \"\"\"\n",
    "    return list(range(0, total, 50))"
   ]
  },
  {
   "cell_type": "markdown",
   "metadata": {},
   "source": [
    "Check that your function works below:"
   ]
  },
  {
   "cell_type": "code",
   "execution_count": 29,
   "metadata": {},
   "outputs": [],
   "source": [
    "# Run this cell without changes\n",
    "\n",
    "assert get_offsets(200) == [0, 50, 100, 150]\n",
    "assert get_offsets(210) == [0, 50, 100, 150, 200]"
   ]
  },
  {
   "cell_type": "markdown",
   "metadata": {},
   "source": [
    "### Putting It All Together\n",
    "\n",
    "Recall that the following variable has already been declared for you:"
   ]
  },
  {
   "cell_type": "code",
   "execution_count": 30,
   "metadata": {},
   "outputs": [
    {
     "data": {
      "text/plain": [
       "{'term': 'pizza', 'location': 'New+York+NY'}"
      ]
     },
     "execution_count": 30,
     "metadata": {},
     "output_type": "execute_result"
    }
   ],
   "source": [
    "# Run this cell without changes\n",
    "url_params"
   ]
  },
  {
   "cell_type": "markdown",
   "metadata": {},
   "source": [
    "We'll go ahead and also specify that the limit should be 50 every time:"
   ]
  },
  {
   "cell_type": "code",
   "execution_count": 50,
   "metadata": {},
   "outputs": [],
   "source": [
    "# Run this cell without changes\n",
    "url_params[\"limit\"] = 50"
   ]
  },
  {
   "cell_type": "code",
   "execution_count": 53,
   "metadata": {},
   "outputs": [
    {
     "data": {
      "text/plain": [
       "200"
      ]
     },
     "execution_count": 53,
     "metadata": {},
     "output_type": "execute_result"
    }
   ],
   "source": [
    "max(get_offsets(total))"
   ]
  },
  {
   "cell_type": "markdown",
   "metadata": {},
   "source": [
    "In order to modify the offset, you'll need to add it to `url_params` with the key `\"offset\"` and whatever value is needed.\n",
    "\n",
    "In the cell below, write code that:\n",
    "\n",
    "* Creates an empty list for the full prepared dataset\n",
    "* Loops over all of the offsets from `get_offsets` and makes an API call each time with the specified offset\n",
    "* Calls `prepare_data` to get a cleaned version of the result of each API call\n",
    "* Extends the full prepared dataset list with each query's prepared dataset"
   ]
  },
  {
   "cell_type": "code",
   "execution_count": 55,
   "metadata": {
    "scrolled": true
   },
   "outputs": [
    {
     "data": {
      "text/plain": [
       "191"
      ]
     },
     "execution_count": 55,
     "metadata": {},
     "output_type": "execute_result"
    }
   ],
   "source": [
    "# Replace None with appropriate code\n",
    "\n",
    "# Create an empty list for the full prepared dataset\n",
    "full_dataset = []\n",
    "\n",
    "for offset in get_offsets(total):\n",
    "    # Add or update the \"offset\" key-value pair in url_params\n",
    "    url_params['offset'] = offset\n",
    "    if offset == max(get_offsets(total)):\n",
    "        url_params['limit'] = total - offset\n",
    "    # Make the query and get the response\n",
    "    response = requests.get(url, headers=headers, params=url_params)\n",
    "    \n",
    "    # Get the response body in JSON format\n",
    "    response_json = response.json()\n",
    "    # Get the list of businesses from the response_json\n",
    "    businesses = response_json['businesses']\n",
    "    \n",
    "    # Call the prepare_data function to get a list of processed data\n",
    "    prepared_businesses = prepare_data(businesses)\n",
    "    \n",
    "    # Extend full_dataset with this list (don't append, or you'll get\n",
    "    # a list of lists instead of a flat list)\n",
    "    full_dataset.extend(prepared_businesses)\n",
    "\n",
    "# Check the length of the full dataset. It will be up to `total`,\n",
    "# potentially less if there were missing values\n",
    "len(full_dataset)"
   ]
  },
  {
   "cell_type": "markdown",
   "metadata": {},
   "source": [
    "This code may take up to a few minutes to run.\n",
    "\n",
    "If you get an error trying to get the response body in JSON format, try adding `time.sleep(1)` right after the `requests.get` line, so your code will sleep for 1 second between each API call."
   ]
  },
  {
   "cell_type": "markdown",
   "metadata": {},
   "source": [
    "## 3. Perform Exploratory Analysis\n",
    "\n",
    "Take the businesses from the previous question and do an initial exploratory analysis. We have provided some plots for you to interpret:"
   ]
  },
  {
   "cell_type": "code",
   "execution_count": 58,
   "metadata": {},
   "outputs": [
    {
     "data": {
      "image/png": "[encoded data removed]",
      "text/plain": [
       "<Figure size 1152x360 with 3 Axes>"
      ]
     },
     "metadata": {
      "needs_background": "light"
     },
     "output_type": "display_data"
    }
   ],
   "source": [
    "# Run this cell without changes\n",
    "from collections import Counter\n",
    "import matplotlib.pyplot as plt\n",
    "%matplotlib inline\n",
    "\n",
    "fig, (ax1, ax2, ax3) = plt.subplots(ncols=3, figsize=(16, 5))\n",
    "\n",
    "# Plot distribution of number of reviews\n",
    "all_review_counts = [x[\"review_count\"] for x in full_dataset]\n",
    "ax1.hist(all_review_counts)\n",
    "ax1.set_title(\"Review Count Distribution\")\n",
    "ax1.set_xlabel(\"Number of Reviews\")\n",
    "ax1.set_ylabel(\"Number of Businesses\")\n",
    "\n",
    "# Plot rating distribution\n",
    "all_ratings = [x[\"rating\"] for x in full_dataset]\n",
    "rating_counter = Counter(all_ratings)\n",
    "rating_keys = sorted(rating_counter.keys())\n",
    "ax2.bar(rating_keys, [rating_counter[key] for key in rating_keys])\n",
    "ax2.set_title(\"Rating Distribution\")\n",
    "ax2.set_xlabel(\"Rating\")\n",
    "ax2.set_ylabel(\"Number of Businesses\")\n",
    "\n",
    "# Plot price distribution\n",
    "all_prices = [x[\"price\"].replace(\"$\", r\"\\$\") for x in full_dataset]\n",
    "price_counter = Counter(all_prices)\n",
    "price_keys = sorted(price_counter.keys())\n",
    "ax3.bar(price_keys, [price_counter[key] for key in price_keys])\n",
    "ax3.set_title(\"Price Distribution\")\n",
    "ax3.set_xlabel(\"Price Category\")\n",
    "ax3.set_ylabel(\"Number of Businesses\");"
   ]
  },
  {
   "cell_type": "markdown",
   "metadata": {},
   "source": [
    "Describe the distributions displayed above and interpret them in the context of your query. (Your answer may differ from the solution branch depending on your query.)"
   ]
  },
  {
   "cell_type": "code",
   "execution_count": 59,
   "metadata": {},
   "outputs": [
    {
     "data": {
      "text/plain": [
       "'\\nReveiw counts for restaurants are postively scewed with most falling\\nunder 1000 reviews. The average rating for restaurants is around 4.0 to 4.5.\\nPricing for restaurants is also positively skewed with most having\\n$ or $$ price category\\n'"
      ]
     },
     "execution_count": 59,
     "metadata": {},
     "output_type": "execute_result"
    }
   ],
   "source": [
    "# Replace None with appropriate text\n",
    "\"\"\"\n",
    "Reveiw counts for restaurants are postively scewed with most falling\n",
    "under 1000 reviews. The average rating for restaurants is around 4.0 to 4.5.\n",
    "Pricing for restaurants is also positively skewed with most having\n",
    "$ or $$ price category\n",
    "\"\"\""
   ]
  },
  {
   "cell_type": "markdown",
   "metadata": {},
   "source": [
    "In the cell below, we also plot the rating distributions by price. In this setup, a price of one dollar sign is \"lower price\" and everything else is \"higher price\"."
   ]
  },
  {
   "cell_type": "code",
   "execution_count": 60,
   "metadata": {},
   "outputs": [
    {
     "data": {
      "image/png": "[encoded data removed]",
      "text/plain": [
       "<Figure size 432x288 with 1 Axes>"
      ]
     },
     "metadata": {
      "needs_background": "light"
     },
     "output_type": "display_data"
    }
   ],
   "source": [
    "# Run this cell without changes\n",
    "\n",
    "higher_price = []\n",
    "lower_price = []\n",
    "for row in full_dataset:\n",
    "    if row[\"price\"] == \"$\":\n",
    "        lower_price.append(row[\"rating\"])\n",
    "    else:\n",
    "        higher_price.append(row[\"rating\"])\n",
    "        \n",
    "fig, ax = plt.subplots()\n",
    "\n",
    "ax.hist([higher_price, lower_price], label=[\"higher price\", \"lower price\"], density=True)\n",
    "\n",
    "ax.legend();"
   ]
  },
  {
   "cell_type": "markdown",
   "metadata": {},
   "source": [
    "Is a higher price associated with a higher rating? (No need for any additional math/statistics, just interpret what you see in the plot.)"
   ]
  },
  {
   "cell_type": "code",
   "execution_count": 61,
   "metadata": {},
   "outputs": [
    {
     "data": {
      "text/plain": [
       "'\\nNo, higher price is not associated with a higher rating\\n'"
      ]
     },
     "execution_count": 61,
     "metadata": {},
     "output_type": "execute_result"
    }
   ],
   "source": [
    "# Replace None with appropriate text\n",
    "\"\"\"\n",
    "No, higher price is not associated with a higher rating\n",
    "\"\"\""
   ]
  },
  {
   "cell_type": "markdown",
   "metadata": {},
   "source": [
    "Finally, let's look at ratings vs. review counts:"
   ]
  },
  {
   "cell_type": "code",
   "execution_count": 62,
   "metadata": {},
   "outputs": [
    {
     "data": {
      "image/png": "[encoded data removed]",
      "text/plain": [
       "<Figure size 1152x360 with 1 Axes>"
      ]
     },
     "metadata": {
      "needs_background": "light"
     },
     "output_type": "display_data"
    }
   ],
   "source": [
    "# Run this cell without changes\n",
    "fig, ax = plt.subplots(figsize=(16,5))\n",
    "\n",
    "ax.scatter(all_review_counts, all_ratings, alpha=0.2)\n",
    "ax.set_xlabel(\"Number of Reviews\")\n",
    "ax.set_ylabel(\"Rating\")\n",
    "# \"zoom in\" to a subset of review counts\n",
    "ax.set_xlim(left=0, right=1000);"
   ]
  },
  {
   "cell_type": "markdown",
   "metadata": {},
   "source": [
    "Is a higher number of reviews associated with a higher rating?"
   ]
  },
  {
   "cell_type": "code",
   "execution_count": 64,
   "metadata": {},
   "outputs": [
    {
     "data": {
      "text/plain": [
       "'\\nNo, most highly reviewed restaurants are grouped on the lower\\nend of the reviews axis\\n'"
      ]
     },
     "execution_count": 64,
     "metadata": {},
     "output_type": "execute_result"
    }
   ],
   "source": [
    "# Replace None with appropriate text\n",
    "\"\"\"\n",
    "No, most highly reviewed restaurants are grouped on the lower\n",
    "end of the reviews axis\n",
    "\"\"\""
   ]
  },
  {
   "cell_type": "markdown",
   "metadata": {},
   "source": [
    "## 4. Create a Folium Map\n",
    "\n",
    "Make a map using Folium of the businesses you retrieved. Be sure to also add popups to the markers giving some basic information such as name, rating and price.\n",
    "\n",
    "You can center the map around the latitude and longitude of the first item in `full_dataset`."
   ]
  },
  {
   "cell_type": "code",
   "execution_count": 69,
   "metadata": {},
   "outputs": [
    {
     "data": {
      "text/html": [
       "<div style=\"width:100%;\"><div style=\"position:relative;width:100%;height:0;padding-bottom:60%;\"><span style=\"color:#565656\">Make this Notebook Trusted to load map: File -> Trust Notebook</span><iframe src=\"about:blank\" style=\"position:absolute;width:100%;height:100%;left:0;top:0;border:none !important;\" data-html=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 onload=\"this.contentDocument.open();this.contentDocument.write(atob(this.getAttribute('data-html')));this.contentDocument.close();\" allowfullscreen webkitallowfullscreen mozallowfullscreen></iframe></div></div>"
      ],
      "text/plain": [
       "<folium.folium.Map at 0x143dbb6a1c0>"
      ]
     },
     "execution_count": 69,
     "metadata": {},
     "output_type": "execute_result"
    }
   ],
   "source": [
    "# Replace None with appropriate code\n",
    "\n",
    "# Import the library\n",
    "import folium\n",
    "\n",
    "# Set up center latitude and longitude\n",
    "center_lat = full_dataset[0]['latitude']\n",
    "center_long = full_dataset[0]['longitude']\n",
    "\n",
    "# Initialize map with center lat and long\n",
    "yelp_map = folium.Map([center_lat, center_long])\n",
    "\n",
    "# Adjust this limit to see more or fewer businesses\n",
    "limit=100\n",
    "\n",
    "for business in full_dataset[:limit]:\n",
    "    # Extract information about business\n",
    "    lat = business['latitude']\n",
    "    long = business['longitude']\n",
    "    name = business['name']\n",
    "    rating = business['rating']\n",
    "    price = business['price']\n",
    "    details = \"{}\\nPrice: {} Rating:{}\".format(name,price,rating)\n",
    "    \n",
    "    # Create popup with relevant details\n",
    "    popup = folium.Popup(details, parse_html=True)\n",
    "    \n",
    "    \n",
    "    # Create marker with relevant lat/long and popup\n",
    "    marker = folium.Marker(location=[lat, long], popup=popup)\n",
    "    marker.add_to(yelp_map)\n",
    "    \n",
    "yelp_map"
   ]
  },
  {
   "cell_type": "markdown",
   "metadata": {},
   "source": [
    "## Summary\n",
    "\n",
    "Nice work! In this lab, you've made multiple API calls to Yelp in order to paginate through a results set, performing some basic exploratory analysis and then creating a nice interactive map to display the results using Folium! Well done!"
   ]
  }
 ],
 "metadata": {
  "kernelspec": {
   "display_name": "Python 3",
   "language": "python",
   "name": "python3"
  },
  "language_info": {
   "codemirror_mode": {
    "name": "ipython",
    "version": 3
   },
   "file_extension": ".py",
   "mimetype": "text/x-python",
   "name": "python",
   "nbconvert_exporter": "python",
   "pygments_lexer": "ipython3",
   "version": "3.8.5"
  },
  "toc": {
   "base_numbering": 1,
   "nav_menu": {},
   "number_sections": true,
   "sideBar": true,
   "skip_h1_title": false,
   "title_cell": "Table of Contents",
   "title_sidebar": "Contents",
   "toc_cell": false,
   "toc_position": {},
   "toc_section_display": true,
   "toc_window_display": false
  }
 },
 "nbformat": 4,
 "nbformat_minor": 2
}
